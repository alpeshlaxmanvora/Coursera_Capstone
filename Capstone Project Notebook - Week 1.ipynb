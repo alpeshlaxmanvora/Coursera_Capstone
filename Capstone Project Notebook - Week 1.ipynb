{
    "cells": [
        {
            "cell_type": "markdown",
            "metadata": {
                "collapsed": true
            },
            "source": "# Capstone Project Notebook - Week 1"
        },
        {
            "cell_type": "markdown",
            "metadata": {},
            "source": "This is the first lab **Capston Project** from the *Course 9 - Applied Data Science Capstone.*"
        },
        {
            "cell_type": "markdown",
            "metadata": {},
            "source": "The aim of this project is to create a new project in a Jupyter notebook and link it with Github. <br>\nThis notebook will be mainly used for the capstone project."
        },
        {
            "cell_type": "markdown",
            "metadata": {},
            "source": "To do List:\n* Create a new repository on your Github account and name it Coursera_Capstone.\n* Start the Jupyter Notebook and do the following:\n    * *Import the pandas library as pd.*\n    * *Import the Numbpy library as np.*\n    * Print the following the statement: *Hello Capstone Project Course!*\n* Push the Notebook to your Github repository and submit a link to the notebook on your Github repository."
        },
        {
            "cell_type": "code",
            "execution_count": 1,
            "metadata": {},
            "outputs": [],
            "source": "import pandas as pd\nimport numpy as np"
        },
        {
            "cell_type": "code",
            "execution_count": 2,
            "metadata": {},
            "outputs": [
                {
                    "name": "stdout",
                    "output_type": "stream",
                    "text": "Hello Capstone Project Course!\n"
                }
            ],
            "source": "print(\"Hello Capstone Project Course!\")"
        }
    ],
    "metadata": {
        "kernelspec": {
            "display_name": "Python 3.6",
            "language": "python",
            "name": "python3"
        },
        "language_info": {
            "codemirror_mode": {
                "name": "ipython",
                "version": 3
            },
            "file_extension": ".py",
            "mimetype": "text/x-python",
            "name": "python",
            "nbconvert_exporter": "python",
            "pygments_lexer": "ipython3",
            "version": "3.6.9"
        }
    },
    "nbformat": 4,
    "nbformat_minor": 1
}